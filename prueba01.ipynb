{
  "nbformat": 4,
  "nbformat_minor": 0,
  "metadata": {
    "colab": {
      "name": "prueba01.ipynb",
      "provenance": [],
      "authorship_tag": "ABX9TyMw9vopJpERQoc2jOOxL6KN",
      "include_colab_link": true
    },
    "kernelspec": {
      "name": "python3",
      "display_name": "Python 3"
    },
    "language_info": {
      "name": "python"
    }
  },
  "cells": [
    {
      "cell_type": "markdown",
      "metadata": {
        "id": "view-in-github",
        "colab_type": "text"
      },
      "source": [
        "<a href=\"https://colab.research.google.com/github/BarbaraSantano/Proyecto-restaurante/blob/main/prueba01.ipynb\" target=\"_parent\"><img src=\"https://colab.research.google.com/assets/colab-badge.svg\" alt=\"Open In Colab\"/></a>"
      ]
    },
    {
      "cell_type": "markdown",
      "source": [
        "**1. Mostrar por pantalla la suma de dos números**"
      ],
      "metadata": {
        "id": "-LOd7n5Nk_vB"
      }
    },
    {
      "cell_type": "code",
      "source": [
        "numero1 = int(input(\"Ingrese primer número: \"))"
      ],
      "metadata": {
        "id": "9UQoC1qnlOD3",
        "colab": {
          "base_uri": "https://localhost:8080/"
        },
        "outputId": "98b0d26c-e3d9-46be-d662-98d38381d19e"
      },
      "execution_count": 16,
      "outputs": [
        {
          "name": "stdout",
          "output_type": "stream",
          "text": [
            "Ingrese primer número: 6\n"
          ]
        }
      ]
    },
    {
      "cell_type": "code",
      "source": [
        "numero2 = float(input(\"Ingrese segundo número: \"))"
      ],
      "metadata": {
        "id": "RO3DcSNflsOu",
        "colab": {
          "base_uri": "https://localhost:8080/"
        },
        "outputId": "d1974661-5c6e-44f3-f534-ade871ee858c"
      },
      "execution_count": 23,
      "outputs": [
        {
          "name": "stdout",
          "output_type": "stream",
          "text": [
            "Ingrese segundo número: 3.1416\n"
          ]
        }
      ]
    },
    {
      "cell_type": "code",
      "source": [
        "total = numero1 + numero2\n",
        "total\n",
        "print(total)"
      ],
      "metadata": {
        "colab": {
          "base_uri": "https://localhost:8080/"
        },
        "id": "BmOl4d9NudKm",
        "outputId": "c95c3d14-68ab-4b0b-bc6c-b98a80a5019c"
      },
      "execution_count": 24,
      "outputs": [
        {
          "output_type": "stream",
          "name": "stdout",
          "text": [
            "9.1416\n"
          ]
        }
      ]
    }
  ]
}